{
 "cells": [
  {
   "cell_type": "markdown",
   "metadata": {},
   "source": [
    "# So you want to run a simulation\n",
    "\n",
    "We can now start thinking about the fundamental knowledge we need to run numerical simulations of planets around stars.  The basic way that we initialize our simulation is defining the orbit of a planet around a star."
   ]
  },
  {
   "cell_type": "markdown",
   "metadata": {},
   "source": [
    "## What is an orbit?\n",
    "You'll be learning more about orbits in lecture, but I wanted to give you a brief (re)introduction and expand on some of the concepts you learned earlier this week. \n",
    "\n",
    "An orbit is characterized by six orbital elements, which are parameters that uniquely describe the motion of one body around another.  Gravitationally bound orbits are always ellipses (ovals)— remember that a circle is also a form of an ellipse.\n",
    "\n",
    "\n",
    "<img src=\"https://upload.wikimedia.org/wikipedia/commons/2/22/Classical_Kepler_orbit_80frames_e0.6_smaller.gif\" alt=\"Orbit\" style=\"width: 400px;\"/>\n"
   ]
  },
  {
   "cell_type": "markdown",
   "metadata": {},
   "source": [
    "The first parameter of an orbit is the _semi-major axis_, often denoted $a$.  This can be thought of as the radius of an orbit at its most distant point. Specifically, the semi-major axis is half the major axis of an ellipse, which is shown by the red line labeled $a$ in the figure below. The semi-major axis is related to the period, as we learned in the transit activity.  The semi-major axis can have any value from $0$ to $\\infty$.\n",
    "\n",
    "As a note, a star will always be in one of the _foci_ of the orbits (in the image, denoted F1 and F2).  So, if the ellipse below were an orbit and the star was at F1, the planet would be much closer to the star when it is on the left part of its orbit (called _pericenter_, literally close to center) than when it is on the right (called _apocenter_, literally far from center).\n",
    "\n",
    "\n",
    "<img src=\"https://upload.wikimedia.org/wikipedia/commons/a/a1/Ellipse_semi-major_and_minor_axes.svg\" alt=\"Semi-major axis\" style=\"width: 400px;\"/>"
   ]
  },
  {
   "cell_type": "markdown",
   "metadata": {},
   "source": [
    "The second parameter of an orbit is the _orbital eccentricity_, often denoted $e$.  The orbital eccentricity is the measure of how circular (or non-circular) an orbit is.  An eccentricity of $0$ is a perfect circle, while an eccentricity $\\ge 1$ describes an unbound (hyperbolic or ejecting) orbit.  For a bound orbit (meaning a path that will continually repeat), the eccentricity should be between $0$ and $0.\\overline{99}$\n",
    "\n",
    "\n",
    "<img src=\"https://earthobservatory.nasa.gov/Features/OrbitsCatalog/images/ellipse_diagram.png\" alt=\"Eccentricity\" style=\"width: 400px;\"/>"
   ]
  },
  {
   "cell_type": "markdown",
   "metadata": {},
   "source": [
    "The third parameter of an orbit is the _inclination_, $i$, which describes how tilted an orbit is relative to a reference plane.  An inclination of $0^{\\circ}$ means that the orbit plane and the reference plane (for instance, the Sun's equator) are aligned.  An inclination of $90^{\\circ}$ means that the orbit is polar, or exactly perpendicular to, the orbit plane. In the image below, we show the orbits of Neptune ($i\\sim0^{\\circ}$) and Pluto ($i\\sim12^{\\circ}$). Inclination angles can range from $0-90^{\\circ}$. The orbit integrator we'll be using likes angles in radians (in radians $0^{\\circ}=0$ rad, $180^{\\circ}=\\pi$ rad, and $360^{\\circ}=2\\pi$ rad), so orbital inclination can vary between $0-\\pi/2$.\n",
    "\n",
    "\n",
    "<img src=\"https://qph.ec.quoracdn.net/main-qimg-c9b7afe3f72f89580c46a2e53973e245\" alt=\"Inclination\" style=\"width: 400px;\"/>\n"
   ]
  },
  {
   "cell_type": "markdown",
   "metadata": {},
   "source": [
    "The next two parameters are angles that describe the orientation of the orbit.  \n",
    "\n",
    "The first is the _argument of pericenter_, often styled $\\omega$ (little omega). Another name for this angle is the longitude of pericenter. $\\omega$ describes where the closest approach (pericenter) of an orbit is relative to the reference direction of the orbit (in the image below, the reference direction is the positive $x$ direction).  In 3D orbits, the reference direction is often the ascending node described in the next paragraph. $\\omega$ can have values from $0-2\\pi$ radians ($0-360^{\\circ}$).\n",
    "\n",
    "\n",
    "<img src=\"https://www.uwgb.edu/dutchs/Graphics-Geol/Astronomy/OrbElm-LPer.gif\" alt=\"omega\" style=\"width: 300px;\"/>"
   ]
  },
  {
   "cell_type": "markdown",
   "metadata": {},
   "source": [
    "The second is the _longitude of the ascending node_, written as $\\Omega$ (big Omega).  The name is quite a mouthful!  For an inclined orbit, there will be two places where the orbit crosses the reference plane.  Look at the image of Pluto's orbit above and find the two places where it crosses Neptune's orbit (which is aligned with the reference plane).  $\\Omega$ describes the angle at which  the orbit crosses from under the reference plane to over the reference plane (called the ascending node) and can vary from $0-2\\pi$ radians. In the image below, the line labeled Aries is the reference direction and the celestial equator is the reference plane.\n",
    "\n",
    "<img src=\"https://www.researchgate.net/profile/Gaetano_Lambiase2/publication/264545780/figure/fig1/AS:295972413427715@1447576730398/Figure-1-Keplerian-orbital-parameters-The-longitude-of-the-ascending-node-O-is-defined.png\" alt=\"Omega\" style=\"width: 500px;\"/>\n"
   ]
  },
  {
   "cell_type": "markdown",
   "metadata": {},
   "source": [
    "The last parameter that describes the orbit is its _true anomaly_, $f$ or $\\nu$, or the closely related _mean anomaly_, $M$, and eccentric anomaly, $E$.  These describe the position of the planet at the current time as an angle from $0-2\\pi$ radians.  They take our orbit from an ellipse in space to a time-evolving position.\n",
    "\n",
    "\n",
    "<img src=\"http://spiff.rit.edu/classes/phys440/lectures/ellipse/true_anomaly.gif\" alt=\"nu\" style=\"width: 300px;\"/>"
   ]
  },
  {
   "cell_type": "markdown",
   "metadata": {},
   "source": [
    "Putting everything together, the common diagram you'll see in textbooks and lectures is below.\n",
    "\n",
    "\n",
    "<img src=\"https://upload.wikimedia.org/wikipedia/commons/e/eb/Orbit1.svg\" alt=\"Omega\" style=\"width: 500px;\"/>"
   ]
  },
  {
   "cell_type": "markdown",
   "metadata": {},
   "source": [
    "## Checkpoint\n",
    "Can you identify the six orbital elements that describe an orbit, and do you know what they all mean?  Can you describe every labeled thing in the picture above?\n",
    "<br><br><br><br>\n",
    "\n",
    "\n",
    "\n"
   ]
  },
  {
   "cell_type": "markdown",
   "metadata": {},
   "source": [
    "<sup> Notebooks written by Rachel Smullen (rsmullen@email.arizona.edu) in 2017.</sup>"
   ]
  }
 ],
 "metadata": {
  "kernelspec": {
   "display_name": "Python 2",
   "language": "python",
   "name": "python2"
  },
  "language_info": {
   "codemirror_mode": {
    "name": "ipython",
    "version": 2
   },
   "file_extension": ".py",
   "mimetype": "text/x-python",
   "name": "python",
   "nbconvert_exporter": "python",
   "pygments_lexer": "ipython2",
   "version": "2.7.6"
  }
 },
 "nbformat": 4,
 "nbformat_minor": 2
}
