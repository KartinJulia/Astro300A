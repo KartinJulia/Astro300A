{
 "cells": [
  {
   "cell_type": "markdown",
   "metadata": {},
   "source": [
    "# In Class Programming\n",
    "## 28 Aug 2017\n",
    "\n",
    "At the end of the class, please turn in a plot to the relevant assignment spot on D2L.  This will count for in-class participation points.\n",
    "\n",
    "Today, we'll introduce some basic Python programming and Jupyter notebook use.  If you need a refresher on programming, please work through the Intro to Python notebook on the Github page."
   ]
  },
  {
   "cell_type": "code",
   "execution_count": null,
   "metadata": {
    "collapsed": true
   },
   "outputs": [],
   "source": []
  }
 ],
 "metadata": {
  "kernelspec": {
   "display_name": "Python 3",
   "language": "python",
   "name": "python3"
  },
  "language_info": {
   "codemirror_mode": {
    "name": "ipython",
    "version": 3
   },
   "file_extension": ".py",
   "mimetype": "text/x-python",
   "name": "python",
   "nbconvert_exporter": "python",
   "pygments_lexer": "ipython3",
   "version": "3.6.0"
  }
 },
 "nbformat": 4,
 "nbformat_minor": 2
}
